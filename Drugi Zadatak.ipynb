{
 "cells": [
  {
   "cell_type": "code",
   "execution_count": 1,
   "metadata": {
    "ExecuteTime": {
     "end_time": "2020-05-08T12:13:29.820866Z",
     "start_time": "2020-05-08T12:13:18.343410Z"
    }
   },
   "outputs": [],
   "source": [
    "#importing libraries\n",
    "from matplotlib import pyplot as plt\n",
    "import pandas as pd\n",
    "import gspread\n",
    "import requests\n",
    "import re\n",
    "import random"
   ]
  },
  {
   "cell_type": "code",
   "execution_count": 2,
   "metadata": {
    "ExecuteTime": {
     "end_time": "2020-05-08T12:13:31.558156Z",
     "start_time": "2020-05-08T12:13:29.842271Z"
    }
   },
   "outputs": [],
   "source": [
    "#setting scope and credentials\n",
    "from oauth2client.service_account import ServiceAccountCredentials\n",
    "scope = ['https://spreadsheets.google.com/feeds',\n",
    "         'https://www.googleapis.com/auth/drive']\n",
    "credentials = ServiceAccountCredentials.from_json_keyfile_name('C:\\\\Users\\\\Vanja\\\\Downloads\\\\My Project-badad125c0cd.json', scope)"
   ]
  },
  {
   "cell_type": "code",
   "execution_count": 3,
   "metadata": {
    "ExecuteTime": {
     "end_time": "2020-05-08T12:13:33.879931Z",
     "start_time": "2020-05-08T12:13:31.577562Z"
    }
   },
   "outputs": [],
   "source": [
    "#opening database and sheet\n",
    "gc = gspread.authorize(credentials)\n",
    "wks = gc.open(\"Database\")\n",
    "wks1 = wks.worksheet(\"userdb\")\n"
   ]
  },
  {
   "cell_type": "code",
   "execution_count": 4,
   "metadata": {
    "ExecuteTime": {
     "end_time": "2020-05-08T12:13:33.910815Z",
     "start_time": "2020-05-08T12:13:33.899338Z"
    }
   },
   "outputs": [
    {
     "data": {
      "text/plain": [
       "<Worksheet 'userdb' id:0>"
      ]
     },
     "execution_count": 4,
     "metadata": {},
     "output_type": "execute_result"
    }
   ],
   "source": [
    "wks1"
   ]
  },
  {
   "cell_type": "code",
   "execution_count": 5,
   "metadata": {
    "ExecuteTime": {
     "end_time": "2020-05-08T12:13:35.209665Z",
     "start_time": "2020-05-08T12:13:33.930779Z"
    }
   },
   "outputs": [],
   "source": [
    "#setting write location for useres and passwords\n",
    "users = wks1.col_values(1)\n",
    "passw = wks1.col_values(2)\n",
    "\n"
   ]
  },
  {
   "cell_type": "code",
   "execution_count": 6,
   "metadata": {
    "ExecuteTime": {
     "end_time": "2020-05-08T12:13:35.240716Z",
     "start_time": "2020-05-08T12:13:35.228199Z"
    }
   },
   "outputs": [
    {
     "name": "stdout",
     "output_type": "stream",
     "text": [
      "{'Username': 'Password', 'vanja@yahoo.net': 'aiNV4js', 'vanjamne123@yahoo.com': 'RDTEX73Q', 'vanja@gmail.com': 'vanja', 'VanjaBR@gmail.com': 'Vanja', 'Igornk@gmail.com': 'Igor', 'Miconk@gmail.com': 'Mico', 'Aleksandaricevic@gmail.com': 'Sasa', 'vanjabr@gmail.com': 'vanja1212', 'aleksandar.icevic@gmail.com': 'sasa1234', 'vanjabrbr@gmail.com': 'vanja12', 'vanjamne@gmail.net': 'vanja1212', 'vanjabar@gmail.com': 'vanja1212', 'boban@gmail.com': 'boban123', 'vanja1205@gmail.com': 'vanja1205'}\n"
     ]
    }
   ],
   "source": [
    "#creating dictionaries with users and passwords\n",
    "\n",
    "data = dict(zip(users, passw))\n"
   ]
  },
  {
   "cell_type": "code",
   "execution_count": 9,
   "metadata": {
    "ExecuteTime": {
     "end_time": "2020-05-08T12:16:16.609527Z",
     "start_time": "2020-05-08T12:15:56.039534Z"
    },
    "scrolled": false
   },
   "outputs": [
    {
     "name": "stdout",
     "output_type": "stream",
     "text": [
      "Da li ste postojeci korisnik? Y/N?N\n",
      "Unesite korisnicko ime: vakero@gmail.com\n",
      "Vasa lozinka je:  Ss2aWVE\n",
      "Registracija uspjesna!\n"
     ]
    }
   ],
   "source": [
    "\n",
    "users = {}\n",
    "status = \"\"\n",
    "\n",
    "#Defining display menu,with options\n",
    "def Menu():\n",
    "    status = input(\"Da li ste postojeci korisnik? Y/N?\").upper()\n",
    "    if status == \"Y\":\n",
    "        Login()\n",
    "    elif status == \"N\":\n",
    "        Registration()\n",
    "    else:\n",
    "        print (\"Morate da unesete: Y/N\")\n",
    "        status = input(\"Da li ste registrovani korisnik? Y/N?\").upper()\n",
    "\n",
    "#Definig registration and e-mail validation\n",
    "def Registration():\n",
    "    createReg = input(\"Unesite korisnicko ime: \")\n",
    "    while not re.match(r\"^\\w+([\\.-]?\\w+)*@\\w+([\\.-]?\\w+)*(\\.\\w{2,3})+$\" ,createReg):\n",
    "        print(\"Niste unijeli ispravan e-mail. Pokusajte ponovo\")\n",
    "        createReg = input(\"Unesite korisnicko ime: \")\n",
    "    else:\n",
    "        while createReg in users:\n",
    "            print(\"Korisnicko ime vec postoji!\")\n",
    "            createReg = input(\"Unesite korisnicko ime: \")\n",
    "#Checking e-mail\n",
    "        else:\n",
    "            s = \"abcdefghijklmnopqrstuvwxyz01234567890ABCDEFGHIJKLMNOPQRSTUVWXYZ\"\n",
    "            passlen = 7\n",
    "            p =  \"\".join(random.sample(s,passlen))\n",
    "            row = [createReg, p]\n",
    "            index = 2\n",
    "            sh = wks1.insert_row(row,index)\n",
    "            print(\"Vasa lozinka je: \", p)\n",
    "            print(\"Registracija uspjesna!\")\n",
    "#Generating and displaying pasword\n",
    "def Login():\n",
    "    login = input(\"Unesite korisnicko ime: \")\n",
    "    passw = input(\"Unesite vasu lozinku: \")\n",
    "    while login not in data:\n",
    "        print(\"Pogresno korisnicko ime ili lozinka!\")\n",
    "        login = input(\"Unesite korisnicko ime: \")\n",
    "        passw = input(\"Unesite vasu lozinku: \")\n",
    "#Data Validation\n",
    "    while login in data:\n",
    "        newdict = data[login]\n",
    "\n",
    "        if passw == newdict:\n",
    "            print(\"Uspjesano ste se prijavili!\")\n",
    "            break\n",
    "            \n",
    "        while passw != newdict:    \n",
    "            print(\"Pogresan email ili lozinka!\")\n",
    "            login = input(\"Unesite korisnicko ime: \")\n",
    "            passw = input(\"Unesite vasu lozinku: \")\n",
    "        \n",
    "Menu()"
   ]
  },
  {
   "cell_type": "code",
   "execution_count": null,
   "metadata": {},
   "outputs": [],
   "source": []
  }
 ],
 "metadata": {
  "hide_input": false,
  "kernelspec": {
   "display_name": "Python 3",
   "language": "python",
   "name": "python3"
  },
  "language_info": {
   "codemirror_mode": {
    "name": "ipython",
    "version": 3
   },
   "file_extension": ".py",
   "mimetype": "text/x-python",
   "name": "python",
   "nbconvert_exporter": "python",
   "pygments_lexer": "ipython3",
   "version": "3.7.4"
  },
  "varInspector": {
   "cols": {
    "lenName": 16,
    "lenType": 16,
    "lenVar": 40
   },
   "kernels_config": {
    "python": {
     "delete_cmd_postfix": "",
     "delete_cmd_prefix": "del ",
     "library": "var_list.py",
     "varRefreshCmd": "print(var_dic_list())"
    },
    "r": {
     "delete_cmd_postfix": ") ",
     "delete_cmd_prefix": "rm(",
     "library": "var_list.r",
     "varRefreshCmd": "cat(var_dic_list()) "
    }
   },
   "types_to_exclude": [
    "module",
    "function",
    "builtin_function_or_method",
    "instance",
    "_Feature"
   ],
   "window_display": false
  }
 },
 "nbformat": 4,
 "nbformat_minor": 2
}
