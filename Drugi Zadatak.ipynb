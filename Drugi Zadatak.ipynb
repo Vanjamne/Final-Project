{
 "cells": [
  {
   "cell_type": "code",
   "execution_count": 1,
   "metadata": {
    "ExecuteTime": {
     "end_time": "2020-05-07T09:38:09.414935Z",
     "start_time": "2020-05-07T09:38:08.348915Z"
    }
   },
   "outputs": [],
   "source": [
    "#unosenje biblioteka\n",
    "import pandas as pd\n",
    "from matplotlib import pyplot as plt\n",
    "import requests\n",
    "import gspread\n",
    "import random\n",
    "import re\n"
   ]
  },
  {
   "cell_type": "code",
   "execution_count": 2,
   "metadata": {
    "ExecuteTime": {
     "end_time": "2020-05-07T09:38:10.405630Z",
     "start_time": "2020-05-07T09:38:10.186480Z"
    }
   },
   "outputs": [],
   "source": [
    "from oauth2client.service_account import ServiceAccountCredentials\n",
    "scope = ['https://spreadsheets.google.com/feeds',\n",
    "         'https://www.googleapis.com/auth/drive']\n",
    "credentials = ServiceAccountCredentials.from_json_keyfile_name('C:\\\\Users\\\\Vanja\\\\Downloads\\\\My Project-badad125c0cd.json', scope)"
   ]
  },
  {
   "cell_type": "code",
   "execution_count": 3,
   "metadata": {
    "ExecuteTime": {
     "end_time": "2020-05-07T09:38:12.532239Z",
     "start_time": "2020-05-07T09:38:11.104285Z"
    }
   },
   "outputs": [],
   "source": [
    "gc = gspread.authorize(credentials)\n",
    "wks = gc.open(\"Database\")\n",
    "wks1 = wks.worksheet(\"Sheet1\")\n",
    "\n",
    "#otvaranje sheet-a"
   ]
  },
  {
   "cell_type": "code",
   "execution_count": 4,
   "metadata": {
    "ExecuteTime": {
     "end_time": "2020-05-07T09:38:12.748780Z",
     "start_time": "2020-05-07T09:38:12.736802Z"
    }
   },
   "outputs": [
    {
     "data": {
      "text/plain": [
       "<Worksheet 'Sheet1' id:0>"
      ]
     },
     "execution_count": 4,
     "metadata": {},
     "output_type": "execute_result"
    }
   ],
   "source": [
    "wks1"
   ]
  },
  {
   "cell_type": "code",
   "execution_count": 5,
   "metadata": {
    "ExecuteTime": {
     "end_time": "2020-05-07T09:38:16.407737Z",
     "start_time": "2020-05-07T09:38:15.801264Z"
    }
   },
   "outputs": [],
   "source": [
    "users = wks1.col_values(1)\n",
    "passw = wks1.col_values(2)\n",
    "# Lokacija upisa username-a i lozinki\n"
   ]
  },
  {
   "cell_type": "code",
   "execution_count": 6,
   "metadata": {
    "ExecuteTime": {
     "end_time": "2020-05-07T09:38:17.177356Z",
     "start_time": "2020-05-07T09:38:17.163365Z"
    }
   },
   "outputs": [
    {
     "name": "stdout",
     "output_type": "stream",
     "text": [
      "{'Username': 'Password', 'vanja@yahoo.net': 'aiNV4js', 'vanjamne123@yahoo.com': 'RDTEX73Q', 'vanja@gmail.com': 'vanja', 'VanjaBR@gmail.com': 'Vanja', 'Igornk@gmail.com': 'Igor', 'Miconk@gmail.com': 'Mico', 'Aleksandaricevic@gmail.com': 'Sasa', 'vanjabr@gmail.com': 'vanja1212', 'aleksandar.icevic@gmail.com': 'sasa1234', 'vanjabrbr@gmail.com': 'vanja12', 'vanjamne@gmail.net': 'vanja1212', 'vanjabar@gmail.com': 'vanja1212', 'boban@gmail.com': 'boban123', 'vanja1205@gmail.com': 'vanja1205'}\n"
     ]
    }
   ],
   "source": [
    "data = dict(zip(users, passw))\n",
    "#pravljenje dictionary-ja sa imenima i siframa\n",
    "\n",
    "print(data)"
   ]
  },
  {
   "cell_type": "code",
   "execution_count": 9,
   "metadata": {
    "ExecuteTime": {
     "end_time": "2020-05-07T09:42:49.745926Z",
     "start_time": "2020-05-07T09:42:26.601319Z"
    },
    "scrolled": false
   },
   "outputs": [
    {
     "name": "stdout",
     "output_type": "stream",
     "text": [
      "Da li ste registrovani korisnik? y/n?y\n",
      "Unesite korisnicko ime: vanja@yahoo.net\n",
      "Unesite lozinku: aiNV4js\n",
      "Uspjesan unos!\n"
     ]
    }
   ],
   "source": [
    "\n",
    "users = {}\n",
    "status = \"\"\n",
    "\n",
    "def Menu():\n",
    "    status = input(\"Da li ste registrovani korisnik? y/n?\").lower()\n",
    "    if status == \"y\":\n",
    "        Login()\n",
    "    elif status == \"n\":\n",
    "        Registration()\n",
    "    else:\n",
    "        print (\"Morate da unesete: y/n\")\n",
    "        status = input(\"Da li ste registrovani korisnik? y/n?\").lower()\n",
    "#definsanje menija\n",
    "\n",
    "def Registration():\n",
    "    createLogin = input(\"Unesite korisnicko ime: \")\n",
    "    while not re.match(r\"^\\w+([\\.-]?\\w+)*@\\w+([\\.-]?\\w+)*(\\.\\w{2,3})+$\" ,createLogin):\n",
    "        print(\"Niste unijeli ispravan e-mail\")\n",
    "        createLogin = input(\"Unesite korisnicko ime: \")\n",
    "#Provjera validnosti e-maila\n",
    "    else:\n",
    "        while createLogin in usr:\n",
    "            print(\"Korisnicko ime vec postoji!\")\n",
    "            createLogin = input(\"Unesite korisnicko ime: \")\n",
    "#Provjera e-maila\n",
    "        else:\n",
    "            s = \"abcdefghijklmnopqrstuvwxyz01234567890ABCDEFGHIJKLMNOPQRSTUVWXYZ\"\n",
    "            passlen = 7\n",
    "            p =  \"\".join(random.sample(s,passlen))\n",
    "            row = [createLogin, p]\n",
    "            index = 2\n",
    "            sh = wks1.insert_row(row,index)\n",
    "            print(\"Vasa lozinka je: \", p)\n",
    "            print(\"Registracija uspjesna!\")\n",
    "#generisanje i prikazivanje sifre\n",
    "        \n",
    "def Login():\n",
    "    login = input(\"Unesite korisnicko ime: \")\n",
    "    passw = input(\"Unesite lozinku: \")\n",
    "    while login not in data:\n",
    "        print(\"Pogresno korisnicko ime ili lozinka!\")\n",
    "        login = input(\"Unesite korisnicko ime: \")\n",
    "        passw = input(\"Unesite lozinku: \")\n",
    "#Provjera podataka\n",
    "    while login in data:\n",
    "        newdict = data[login]\n",
    "\n",
    "        if passw == newdict:\n",
    "            print(\"Uspjesan unos!\")\n",
    "            break\n",
    "            \n",
    "        while passw != newdict:    \n",
    "            print(\"Pogresan email ili lozinka!\")\n",
    "            login = input(\"Unesite korisnicko ime: \")\n",
    "            passw = input(\"Unesite lozinku: \")\n",
    "        \n",
    "Menu()"
   ]
  },
  {
   "cell_type": "code",
   "execution_count": null,
   "metadata": {},
   "outputs": [],
   "source": []
  }
 ],
 "metadata": {
  "hide_input": false,
  "kernelspec": {
   "display_name": "Python 3",
   "language": "python",
   "name": "python3"
  },
  "language_info": {
   "codemirror_mode": {
    "name": "ipython",
    "version": 3
   },
   "file_extension": ".py",
   "mimetype": "text/x-python",
   "name": "python",
   "nbconvert_exporter": "python",
   "pygments_lexer": "ipython3",
   "version": "3.7.4"
  },
  "varInspector": {
   "cols": {
    "lenName": 16,
    "lenType": 16,
    "lenVar": 40
   },
   "kernels_config": {
    "python": {
     "delete_cmd_postfix": "",
     "delete_cmd_prefix": "del ",
     "library": "var_list.py",
     "varRefreshCmd": "print(var_dic_list())"
    },
    "r": {
     "delete_cmd_postfix": ") ",
     "delete_cmd_prefix": "rm(",
     "library": "var_list.r",
     "varRefreshCmd": "cat(var_dic_list()) "
    }
   },
   "types_to_exclude": [
    "module",
    "function",
    "builtin_function_or_method",
    "instance",
    "_Feature"
   ],
   "window_display": false
  }
 },
 "nbformat": 4,
 "nbformat_minor": 2
}
