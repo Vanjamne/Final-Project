{
 "cells": [
  {
   "cell_type": "code",
   "execution_count": 1,
   "metadata": {
    "ExecuteTime": {
     "end_time": "2020-05-07T08:45:31.146399Z",
     "start_time": "2020-05-07T08:45:30.028419Z"
    }
   },
   "outputs": [],
   "source": [
    "#unosenje biblioteka\n",
    "import pandas as pd\n",
    "from matplotlib import pyplot as plt\n",
    "import requests\n",
    "import gspread\n",
    "import random\n",
    "import re\n"
   ]
  },
  {
   "cell_type": "code",
   "execution_count": 2,
   "metadata": {
    "ExecuteTime": {
     "end_time": "2020-05-07T08:45:32.183226Z",
     "start_time": "2020-05-07T08:45:32.032942Z"
    }
   },
   "outputs": [],
   "source": [
    "from oauth2client.service_account import ServiceAccountCredentials\n",
    "scope = ['https://spreadsheets.google.com/feeds',\n",
    "         'https://www.googleapis.com/auth/drive']\n",
    "credentials = ServiceAccountCredentials.from_json_keyfile_name('C:\\\\Users\\\\Vanja\\\\Downloads\\\\My Project-badad125c0cd.json', scope)"
   ]
  },
  {
   "cell_type": "code",
   "execution_count": 3,
   "metadata": {
    "ExecuteTime": {
     "end_time": "2020-05-07T08:45:35.589736Z",
     "start_time": "2020-05-07T08:45:33.402685Z"
    }
   },
   "outputs": [
    {
     "data": {
      "text/plain": [
       "<Worksheet 'Sheet1' id:0>"
      ]
     },
     "execution_count": 3,
     "metadata": {},
     "output_type": "execute_result"
    }
   ],
   "source": [
    "gc = gspread.authorize(credentials)\n",
    "wks = gc.open(\"Database\")\n",
    "wks1 = wks.worksheet(\"Sheet1\")\n",
    "#otvaranje sheet-a"
   ]
  },
  {
   "cell_type": "code",
   "execution_count": 5,
   "metadata": {
    "ExecuteTime": {
     "end_time": "2020-05-07T08:46:01.477594Z",
     "start_time": "2020-05-07T08:46:00.712591Z"
    }
   },
   "outputs": [],
   "source": [
    "usr = wks1.col_values(1)\n",
    "psw = wks1.col_values(2)\n",
    "# Lokacija upisa username-a i lozinki\n"
   ]
  },
  {
   "cell_type": "code",
   "execution_count": null,
   "metadata": {
    "ExecuteTime": {
     "start_time": "2020-05-07T08:46:03.581Z"
    }
   },
   "outputs": [
    {
     "name": "stdout",
     "output_type": "stream",
     "text": [
      "Da li ste registrovani korisnik? y/n?y\n",
      "Unesite korisnicko ime: vanjamne@gmail.com\n",
      "Unesite lozinku: vanja1205\n",
      "Pogresano korisnicko ime ili lozinka!\n"
     ]
    }
   ],
   "source": [
    "data = dict(zip(usr, psw))\n",
    "#pravljenje dictionary-ja sa imenima i siframa\n",
    "\n",
    "users = {}\n",
    "status = \"\"\n",
    "\n",
    "def Menu():\n",
    "    status = input(\"Da li ste registrovani korisnik? y/n?\").lower()\n",
    "    if status == \"y\":\n",
    "        log_in()\n",
    "    elif status == \"n\":\n",
    "        sign_up()\n",
    "    else:\n",
    "        print (\"Morate da unesete: y/n\")\n",
    "        status = input(\"Da li ste registrovani korisnik? y/n?\").lower()\n",
    "#definsanje menija\n",
    "\n",
    "def sign_up():\n",
    "    createLogin = input(\"Unesite korisnicko ime: \")\n",
    "    while not re.match(r\"^\\w+([\\.-]?\\w+)*@\\w+([\\.-]?\\w+)*(\\.\\w{2,3})+$\" ,createLogin):\n",
    "        print(\"Niste unijeli ispravan e-mail\")\n",
    "        createLogin = input(\"Unesite korisnicko ime: \")\n",
    "#Provjera validnosti e-maila\n",
    "    else:\n",
    "        while createLogin in usr:\n",
    "            print(\"Korisnicko ime vec postoji!\")\n",
    "            createLogin = input(\"Unesite korisnicko ime: \")\n",
    "#Provjera e-maila\n",
    "        else:\n",
    "            s = \"abcdefghijklmnopqrstuvwxyz01234567890ABCDEFGHIJKLMNOPQRSTUVWXYZ\"\n",
    "            passlen = 7\n",
    "            p =  \"\".join(random.sample(s,passlen))\n",
    "            row = [createLogin, p]\n",
    "            index = 2\n",
    "            sh = wks1.insert_row(row,index)\n",
    "            print(\"Vasa lozinka je: \", p)\n",
    "            print(\"Registracija uspjesna!\")\n",
    "#generisanje i prikazivanje sifre\n",
    "        \n",
    "def log_in():\n",
    "    login = input(\"Unesite korisnicko ime: \")\n",
    "    passw = input(\"Unesite lozinku: \")\n",
    "    while login not in data:\n",
    "        print(\"Pogresno korisnicko ime ili lozinka!\")\n",
    "        login = input(\"Unesite korisnicko ime: \")\n",
    "        passw = input(\"Unesite lozinku: \")\n",
    "#Provjera maila\n",
    "    while login in data:\n",
    "        newdict = data[login]\n",
    "\n",
    "        if passw == newdict:\n",
    "            print(\"Uspjesan unos!\")\n",
    "            break\n",
    "            \n",
    "        while passw != newdict:    \n",
    "            print(\"Pogresan email ili lozinka!\")\n",
    "            login = input(\"Unesite korisnicko ime: \")\n",
    "            passw = input(\"Unesite lozinku: \")\n",
    "        \n",
    "Menu()"
   ]
  },
  {
   "cell_type": "code",
   "execution_count": null,
   "metadata": {},
   "outputs": [],
   "source": []
  }
 ],
 "metadata": {
  "hide_input": false,
  "kernelspec": {
   "display_name": "Python 3",
   "language": "python",
   "name": "python3"
  },
  "language_info": {
   "codemirror_mode": {
    "name": "ipython",
    "version": 3
   },
   "file_extension": ".py",
   "mimetype": "text/x-python",
   "name": "python",
   "nbconvert_exporter": "python",
   "pygments_lexer": "ipython3",
   "version": "3.7.4"
  },
  "varInspector": {
   "cols": {
    "lenName": 16,
    "lenType": 16,
    "lenVar": 40
   },
   "kernels_config": {
    "python": {
     "delete_cmd_postfix": "",
     "delete_cmd_prefix": "del ",
     "library": "var_list.py",
     "varRefreshCmd": "print(var_dic_list())"
    },
    "r": {
     "delete_cmd_postfix": ") ",
     "delete_cmd_prefix": "rm(",
     "library": "var_list.r",
     "varRefreshCmd": "cat(var_dic_list()) "
    }
   },
   "types_to_exclude": [
    "module",
    "function",
    "builtin_function_or_method",
    "instance",
    "_Feature"
   ],
   "window_display": false
  }
 },
 "nbformat": 4,
 "nbformat_minor": 2
}
