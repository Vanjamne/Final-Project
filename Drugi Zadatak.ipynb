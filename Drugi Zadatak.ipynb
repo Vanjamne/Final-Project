{
 "cells": [
  {
   "cell_type": "code",
   "execution_count": 1,
   "metadata": {
    "ExecuteTime": {
     "end_time": "2020-02-16T13:29:06.915950Z",
     "start_time": "2020-02-16T13:28:54.301481Z"
    }
   },
   "outputs": [],
   "source": [
    "import pandas as pd\n",
    "import requests\n",
    "import gspread\n",
    "import re "
   ]
  },
  {
   "cell_type": "code",
   "execution_count": 2,
   "metadata": {
    "ExecuteTime": {
     "end_time": "2020-02-16T13:29:09.094146Z",
     "start_time": "2020-02-16T13:29:06.969336Z"
    }
   },
   "outputs": [],
   "source": [
    "from oauth2client.service_account import ServiceAccountCredentials"
   ]
  },
  {
   "cell_type": "code",
   "execution_count": 3,
   "metadata": {
    "ExecuteTime": {
     "end_time": "2020-02-16T13:29:09.163126Z",
     "start_time": "2020-02-16T13:29:09.147506Z"
    }
   },
   "outputs": [],
   "source": [
    "scope = ['https://spreadsheets.google.com/feeds',\n",
    "         'https://www.googleapis.com/auth/drive']"
   ]
  },
  {
   "cell_type": "code",
   "execution_count": 4,
   "metadata": {
    "ExecuteTime": {
     "end_time": "2020-02-16T13:29:09.394888Z",
     "start_time": "2020-02-16T13:29:09.209998Z"
    }
   },
   "outputs": [],
   "source": [
    "credentials = ServiceAccountCredentials.from_json_keyfile_name('C:\\\\Users\\\\Vanja\\\\Downloads\\\\My Project-badad125c0cd.json', scope)"
   ]
  },
  {
   "cell_type": "code",
   "execution_count": 5,
   "metadata": {
    "ExecuteTime": {
     "end_time": "2020-02-16T13:29:09.927508Z",
     "start_time": "2020-02-16T13:29:09.448273Z"
    }
   },
   "outputs": [],
   "source": [
    "gc = gspread.authorize(credentials)"
   ]
  },
  {
   "cell_type": "code",
   "execution_count": 6,
   "metadata": {
    "ExecuteTime": {
     "end_time": "2020-02-16T13:29:11.199771Z",
     "start_time": "2020-02-16T13:29:09.980893Z"
    }
   },
   "outputs": [],
   "source": [
    "wks = gc.open(\"Database\").sheet1"
   ]
  },
  {
   "cell_type": "code",
   "execution_count": null,
   "metadata": {
    "ExecuteTime": {
     "start_time": "2020-02-16T13:38:54.071Z"
    }
   },
   "outputs": [
    {
     "name": "stdout",
     "output_type": "stream",
     "text": [
      "1) Registrujte se\n",
      "2) Prijavite se\n",
      ">1\n",
      "Unesite korisnicko ime: vanja\n",
      "Unesite lozinku: vanja\n",
      "neispravan e-mail.Pokusajte ponovo! \n"
     ]
    }
   ],
   "source": [
    "regex = '^\\w+([\\.-]?\\w+)*@\\w+([\\.-]?\\w+)*(\\.\\w{2,3})+$'\n",
    "def validateuser(user):\n",
    "    if(re.search(regex,user)):\n",
    "        return True\n",
    "\n",
    "def next_available_row(worksheet):\n",
    "    str_list = worksheet.col_values(1)\n",
    "    return len(str_list)+1\n",
    "\n",
    "\n",
    "def createAuth():\n",
    "\tglobal wks\n",
    "\twhile True:\n",
    "\t\tuser = input(\"Unesite korisnicko ime: \")\n",
    "\t\tpassW = input(\"Unesite lozinku: \")\n",
    "\t\tif validateuser(user):\n",
    "\t\t\ttry:\n",
    "\t\t\t\twks.find(user)\n",
    "\t\t\texcept:\n",
    "\t\t\t\twks.resize(next_available_row(wks))\n",
    "\t\t\t\twks.append_row([user, passW])\n",
    "\t\t\t\tprint(\"Registracija uspjesna!.\")\n",
    "\t\t\t\tbreak\n",
    "\t\t\tprint(\"Korisnicko ime vec postoji.Pokusajte sa drugim! \")\n",
    "\t\telse:\n",
    "\t\t\tprint(\"neispravan e-mail.Pokusajte ponovo! \")\n",
    "\n",
    "def login():\n",
    "\tglobal wks\n",
    "\twhile 1:\n",
    "\t\tuser = input(\"Unesite korisnicko ime: \")\n",
    "\t\tpassW = input(\"Unesite lozinku: \")\n",
    "\t\ttry:\n",
    "\t\t\tt1 = wks.find(user)\n",
    "\t\texcept:\n",
    "\t\t\tprint(\"Nepostojece korisnicko ime. Pokusajte ponovo.\")\n",
    "\t\t\tcontinue\n",
    "\t\tif wks.cell(t1.row, t1.col+1).value == passW:\n",
    "\t\t\tprint(\"Login uspjesan!\")\n",
    "\t\t\tbreak\n",
    "\t\telse:\n",
    "\t\t\tprint(\"Netacna lozinka ili korisnicko ime!\")\n",
    "\n",
    "choice = int(input(\"1) Registrujte se\\n2) Prijavite se\\n>\"))\n",
    "if choice == 1:\n",
    "\tcreateAuth()\n",
    "else:\n",
    "\tlogin()"
   ]
  },
  {
   "cell_type": "code",
   "execution_count": null,
   "metadata": {},
   "outputs": [],
   "source": []
  }
 ],
 "metadata": {
  "hide_input": false,
  "kernelspec": {
   "display_name": "Python 3",
   "language": "python",
   "name": "python3"
  },
  "language_info": {
   "codemirror_mode": {
    "name": "ipython",
    "version": 3
   },
   "file_extension": ".py",
   "mimetype": "text/x-python",
   "name": "python",
   "nbconvert_exporter": "python",
   "pygments_lexer": "ipython3",
   "version": "3.7.4"
  },
  "varInspector": {
   "cols": {
    "lenName": 16,
    "lenType": 16,
    "lenVar": 40
   },
   "kernels_config": {
    "python": {
     "delete_cmd_postfix": "",
     "delete_cmd_prefix": "del ",
     "library": "var_list.py",
     "varRefreshCmd": "print(var_dic_list())"
    },
    "r": {
     "delete_cmd_postfix": ") ",
     "delete_cmd_prefix": "rm(",
     "library": "var_list.r",
     "varRefreshCmd": "cat(var_dic_list()) "
    }
   },
   "types_to_exclude": [
    "module",
    "function",
    "builtin_function_or_method",
    "instance",
    "_Feature"
   ],
   "window_display": false
  }
 },
 "nbformat": 4,
 "nbformat_minor": 2
}
