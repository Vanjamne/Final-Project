{
 "cells": [
  {
   "cell_type": "code",
   "execution_count": 1,
   "metadata": {
    "ExecuteTime": {
     "end_time": "2020-05-06T11:57:05.824336Z",
     "start_time": "2020-05-06T11:56:58.654148Z"
    }
   },
   "outputs": [],
   "source": [
    "#importing libraries\n",
    "import pandas as pd\n",
    "from matplotlib import pyplot as plt\n",
    "import requests\n",
    "import gspread\n",
    "import random\n",
    "import re\n"
   ]
  },
  {
   "cell_type": "code",
   "execution_count": 2,
   "metadata": {
    "ExecuteTime": {
     "end_time": "2020-05-06T11:57:06.923010Z",
     "start_time": "2020-05-06T11:57:05.845301Z"
    }
   },
   "outputs": [],
   "source": [
    "from oauth2client.service_account import ServiceAccountCredentials\n",
    "scope = ['https://spreadsheets.google.com/feeds',\n",
    "         'https://www.googleapis.com/auth/drive']\n",
    "credentials = ServiceAccountCredentials.from_json_keyfile_name('C:\\\\Users\\\\Vanja\\\\Downloads\\\\My Project-badad125c0cd.json', scope)"
   ]
  },
  {
   "cell_type": "code",
   "execution_count": 3,
   "metadata": {
    "ExecuteTime": {
     "end_time": "2020-05-06T11:57:08.721556Z",
     "start_time": "2020-05-06T11:57:06.951898Z"
    }
   },
   "outputs": [
    {
     "data": {
      "text/plain": [
       "<Worksheet 'Sheet1' id:0>"
      ]
     },
     "execution_count": 3,
     "metadata": {},
     "output_type": "execute_result"
    }
   ],
   "source": [
    "gc = gspread.authorize(credentials)\n",
    "wks = gc.open(\"Database\")\n",
    "wks1 = wks.worksheet(\"Sheet1\")\n",
    "wks1\n",
    "#opening sheet"
   ]
  },
  {
   "cell_type": "code",
   "execution_count": 4,
   "metadata": {
    "ExecuteTime": {
     "end_time": "2020-05-06T11:57:09.447412Z",
     "start_time": "2020-05-06T11:57:08.752482Z"
    }
   },
   "outputs": [],
   "source": [
    "usr = wks1.col_values(1)\n",
    "psw = wks1.col_values(2)\n",
    "# exporting usernames and passwords\n"
   ]
  },
  {
   "cell_type": "code",
   "execution_count": 5,
   "metadata": {
    "ExecuteTime": {
     "end_time": "2020-05-06T11:57:27.216370Z",
     "start_time": "2020-05-06T11:57:11.412917Z"
    }
   },
   "outputs": [
    {
     "name": "stdout",
     "output_type": "stream",
     "text": [
      "{'Username': 'Password', 'vanja@gmail.com': 'vanja', 'VanjaBR@gmail.com': 'Vanja', 'Igornk@gmail.com': 'Igor', 'Miconk@gmail.com': 'Mico', 'Aleksandaricevic@gmail.com': 'Sasa', 'vanjabr@gmail.com': 'vanja1212', 'aleksandar.icevic@gmail.com': 'sasa1234', 'vanjabrbr@gmail.com': 'vanja12', 'vanjamne@gmail.net': 'vanja1212', 'vanjabar@gmail.com': 'vanja1212', 'boban@gmail.com': 'boban123', 'vanja1205@gmail.com': 'vanja1205'}\n",
      "Da li ste registrovani korisnik? y/n?n\n",
      "Unesite korisnicko ime: vanjamne123@yahoo.com\n",
      "Vasa sifra je:  RDTEX73Q\n",
      "Registracija uspjesna!\n"
     ]
    }
   ],
   "source": [
    "usps = dict(zip(usr, psw))\n",
    "print(usps)\n",
    "#pravljenje dictionary-ja sa imenima i siframa\n",
    "\n",
    "users = {}\n",
    "status = \"\"\n",
    "\n",
    "def displayMenu():\n",
    "    status = input(\"Da li ste registrovani korisnik? y/n?\").lower()\n",
    "    if status == \"y\":\n",
    "        log_in()\n",
    "    elif status == \"n\":\n",
    "        sign_up()\n",
    "    else:\n",
    "        print (\"Morate da unesete: y/n\")\n",
    "        status = input(\"Da li ste registrovani korisnik? y/n?\").lower()\n",
    "#definsanje menija\n",
    "\n",
    "def sign_up():\n",
    "    createLogin = input(\"Unesite korisnicko ime: \")\n",
    "    while not re.match(r\"^\\w+([\\.-]?\\w+)*@\\w+([\\.-]?\\w+)*(\\.\\w{2,3})+$\" ,createLogin):\n",
    "        print(\"Niste unijeli ispravan e-mail\")\n",
    "        createLogin = input(\"Unesite korisnicko ime: \")\n",
    "#Provjera validnosti e-maila\n",
    "    else:\n",
    "        while createLogin in usr:\n",
    "            print(\"Korisnicko ime vec postoji!\")\n",
    "            createLogin = input(\"Unesite korisnicko ime: \")\n",
    "#Provjera e-maila\n",
    "        else:\n",
    "            s = \"abcdefghijklmnopqrstuvwxyz01234567890ABCDEFGHIJKLMNOPQRSTUVWXYZ\"\n",
    "            passlen = 8\n",
    "            p =  \"\".join(random.sample(s,passlen))\n",
    "            row = [createLogin, p]\n",
    "            index = 2\n",
    "            sh = wks1.insert_row(row,index)\n",
    "            print(\"Vasa sifra je: \", p)\n",
    "            print(\"Registracija uspjesna!\")\n",
    "#generisanje i prikazivanje sifre\n",
    "        \n",
    "def log_in():\n",
    "    login = input(\"Unesite korisnicko ime: \")\n",
    "    passw = input(\"Unesite lozinku: \")\n",
    "    while login not in usps:\n",
    "        print(\"Pogresano korisnicko ime ili lozinka!\")\n",
    "        login = input(\"Unesite korisnicko ime: \")\n",
    "        passw = input(\"Unesite lozinku: \")\n",
    "#Provjera maila\n",
    "    while login in usps:\n",
    "        newdict = usps[login]\n",
    "\n",
    "        if passw == newdict:\n",
    "            print(\"Uspjesan unos!\")\n",
    "            break\n",
    "            \n",
    "        while passw != newdict:    \n",
    "            print(\"Pogresan email ili lozinka!\")\n",
    "            login = input(\"Unesite korisnicko ime: \")\n",
    "            passw = input(\"Unesite lozinku: \")\n",
    "        \n",
    "displayMenu()"
   ]
  },
  {
   "cell_type": "code",
   "execution_count": null,
   "metadata": {},
   "outputs": [],
   "source": []
  }
 ],
 "metadata": {
  "hide_input": false,
  "kernelspec": {
   "display_name": "Python 3",
   "language": "python",
   "name": "python3"
  },
  "language_info": {
   "codemirror_mode": {
    "name": "ipython",
    "version": 3
   },
   "file_extension": ".py",
   "mimetype": "text/x-python",
   "name": "python",
   "nbconvert_exporter": "python",
   "pygments_lexer": "ipython3",
   "version": "3.7.4"
  },
  "varInspector": {
   "cols": {
    "lenName": 16,
    "lenType": 16,
    "lenVar": 40
   },
   "kernels_config": {
    "python": {
     "delete_cmd_postfix": "",
     "delete_cmd_prefix": "del ",
     "library": "var_list.py",
     "varRefreshCmd": "print(var_dic_list())"
    },
    "r": {
     "delete_cmd_postfix": ") ",
     "delete_cmd_prefix": "rm(",
     "library": "var_list.r",
     "varRefreshCmd": "cat(var_dic_list()) "
    }
   },
   "types_to_exclude": [
    "module",
    "function",
    "builtin_function_or_method",
    "instance",
    "_Feature"
   ],
   "window_display": false
  }
 },
 "nbformat": 4,
 "nbformat_minor": 2
}
