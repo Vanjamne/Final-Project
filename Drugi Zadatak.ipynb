{
 "cells": [
  {
   "cell_type": "code",
   "execution_count": 1,
   "metadata": {
    "ExecuteTime": {
     "end_time": "2020-06-23T18:05:32.606809Z",
     "start_time": "2020-06-23T18:05:17.684118Z"
    }
   },
   "outputs": [],
   "source": [
    "#importing libraries\n",
    "from matplotlib import pyplot as plt\n",
    "import pandas as pd\n",
    "import gspread\n",
    "import requests\n",
    "import re\n",
    "import random"
   ]
  },
  {
   "cell_type": "code",
   "execution_count": 2,
   "metadata": {
    "ExecuteTime": {
     "end_time": "2020-06-23T18:05:34.851010Z",
     "start_time": "2020-06-23T18:05:32.644571Z"
    }
   },
   "outputs": [],
   "source": [
    "#setting scope and credentials\n",
    "from oauth2client.service_account import ServiceAccountCredentials\n",
    "scope = ['https://spreadsheets.google.com/feeds',\n",
    "         'https://www.googleapis.com/auth/drive']\n",
    "credentials = ServiceAccountCredentials.from_json_keyfile_name('C:\\\\Users\\\\Vanja\\\\Downloads\\\\My Project-badad125c0cd.json', scope)"
   ]
  },
  {
   "cell_type": "code",
   "execution_count": 3,
   "metadata": {
    "ExecuteTime": {
     "end_time": "2020-06-23T18:05:38.191951Z",
     "start_time": "2020-06-23T18:05:34.882200Z"
    }
   },
   "outputs": [],
   "source": [
    "#opening database and sheet\n",
    "gc = gspread.authorize(credentials)\n",
    "wks = gc.open(\"Database\")\n",
    "wks1 = wks.worksheet(\"userdb\")\n"
   ]
  },
  {
   "cell_type": "code",
   "execution_count": 4,
   "metadata": {
    "ExecuteTime": {
     "end_time": "2020-06-23T18:05:38.245347Z",
     "start_time": "2020-06-23T18:05:38.223197Z"
    }
   },
   "outputs": [
    {
     "data": {
      "text/plain": [
       "<Worksheet 'userdb' id:0>"
      ]
     },
     "execution_count": 4,
     "metadata": {},
     "output_type": "execute_result"
    }
   ],
   "source": [
    "wks1"
   ]
  },
  {
   "cell_type": "code",
   "execution_count": 5,
   "metadata": {
    "ExecuteTime": {
     "end_time": "2020-06-23T18:05:39.448880Z",
     "start_time": "2020-06-23T18:05:38.276595Z"
    }
   },
   "outputs": [],
   "source": [
    "#setting write location for useres and passwords\n",
    "users = wks1.col_values(1)\n",
    "passw = wks1.col_values(2)\n",
    "\n"
   ]
  },
  {
   "cell_type": "code",
   "execution_count": 6,
   "metadata": {
    "ExecuteTime": {
     "end_time": "2020-06-23T18:05:39.495750Z",
     "start_time": "2020-06-23T18:05:39.480128Z"
    }
   },
   "outputs": [],
   "source": [
    "#creating dictionaries with users and passwords\n",
    "\n",
    "data = dict(zip(users, passw))\n"
   ]
  },
  {
   "cell_type": "code",
   "execution_count": null,
   "metadata": {
    "ExecuteTime": {
     "start_time": "2020-06-23T18:05:24.580Z"
    },
    "code_folding": [],
    "scrolled": true
   },
   "outputs": [
    {
     "name": "stdout",
     "output_type": "stream",
     "text": [
      "Da li ste postojeci korisnik? Y/N?n\n",
      "Unesite korisnicko ime: vanjabr@gmail.com\n",
      "Korisnicko ime vec postoji!\n"
     ]
    }
   ],
   "source": [
    "\n",
    "users2 = {}\n",
    "status = \"\"\n",
    "\n",
    "#Defining display menu,with options\n",
    "def Menu():\n",
    "    status = input(\"Da li ste postojeci korisnik? Y/N?\").upper()\n",
    "    if status == \"Y\":\n",
    "        Login()\n",
    "    elif status == \"N\":\n",
    "        Registration()\n",
    "    else:\n",
    "        print (\"Morate da unesete: Y/N\")\n",
    "        status = input(\"Da li ste registrovani korisnik? Y/N?\").upper()\n",
    "\n",
    "#Definig registration and e-mail validation\n",
    "def Registration():\n",
    "    createReg = input(\"Unesite korisnicko ime: \")\n",
    "    while not re.match(r\"^\\w+([\\.-]?\\w+)*@\\w+([\\.-]?\\w+)*(\\.\\w{2,3})+$\" ,createReg):\n",
    "        print(\"Niste unijeli ispravan e-mail. Pokusajte ponovo\")\n",
    "        createReg = input(\"Unesite korisnicko ime: \")\n",
    "    else:\n",
    "        while createReg in users:\n",
    "            print(\"Korisnicko ime vec postoji!\")\n",
    "            createReg = input(\"Unesite korisnicko ime: \")\n",
    "    #Checking e-mail\n",
    "        else:\n",
    "            s = \"abcdefghijklmnopqrstuvwxyz01234567890ABCDEFGHIJKLMNOPQRSTUVWXYZ\"\n",
    "            passlen = 7\n",
    "            p =  \"\".join(random.sample(s,passlen))\n",
    "            row = [createReg, p]\n",
    "            index = 2\n",
    "            sh = wks1.insert_row(row,index)\n",
    "            print(\"Vasa lozinka je: \", p)\n",
    "            print(\"Registracija uspjesna!\")\n",
    "        #Generating and displaying pasword\n",
    "def Login():\n",
    "    login = input(\"Unesite korisnicko ime: \")\n",
    "    passw = input(\"Unesite vasu lozinku: \")\n",
    "    while login not in data:\n",
    "        print(\"Pogresno korisnicko ime ili lozinka!\")\n",
    "        login = input(\"Unesite korisnicko ime: \")\n",
    "        passw = input(\"Unesite vasu lozinku: \")\n",
    "#Data Validation\n",
    "    while login in data:\n",
    "        newdict = data[login]\n",
    "\n",
    "        if passw == newdict:\n",
    "            print(\"Uspjesno ste se prijavili!\")\n",
    "            break\n",
    "            \n",
    "        while passw != newdict:    \n",
    "            print(\"Pogresan email ili lozinka!\")\n",
    "            login = input(\"Unesite korisnicko ime: \")\n",
    "            passw = input(\"Unesite vasu lozinku: \")\n",
    "        \n",
    "Menu()"
   ]
  },
  {
   "cell_type": "code",
   "execution_count": null,
   "metadata": {},
   "outputs": [],
   "source": []
  }
 ],
 "metadata": {
  "hide_input": false,
  "kernelspec": {
   "display_name": "Python 3",
   "language": "python",
   "name": "python3"
  },
  "language_info": {
   "codemirror_mode": {
    "name": "ipython",
    "version": 3
   },
   "file_extension": ".py",
   "mimetype": "text/x-python",
   "name": "python",
   "nbconvert_exporter": "python",
   "pygments_lexer": "ipython3",
   "version": "3.7.4"
  },
  "varInspector": {
   "cols": {
    "lenName": 16,
    "lenType": 16,
    "lenVar": 40
   },
   "kernels_config": {
    "python": {
     "delete_cmd_postfix": "",
     "delete_cmd_prefix": "del ",
     "library": "var_list.py",
     "varRefreshCmd": "print(var_dic_list())"
    },
    "r": {
     "delete_cmd_postfix": ") ",
     "delete_cmd_prefix": "rm(",
     "library": "var_list.r",
     "varRefreshCmd": "cat(var_dic_list()) "
    }
   },
   "types_to_exclude": [
    "module",
    "function",
    "builtin_function_or_method",
    "instance",
    "_Feature"
   ],
   "window_display": false
  }
 },
 "nbformat": 4,
 "nbformat_minor": 2
}
