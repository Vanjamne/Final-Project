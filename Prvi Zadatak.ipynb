{
 "cells": [
  {
   "cell_type": "code",
   "execution_count": 1,
   "metadata": {
    "ExecuteTime": {
     "end_time": "2020-05-04T15:05:40.463634Z",
     "start_time": "2020-05-04T15:05:25.236756Z"
    }
   },
   "outputs": [],
   "source": [
    "# ucitavamo pandas i matplotlib\n",
    "import pandas as pd\n",
    "from matplotlib import pyplot as plt"
   ]
  },
  {
   "cell_type": "code",
   "execution_count": 2,
   "metadata": {
    "ExecuteTime": {
     "end_time": "2020-05-04T15:05:41.129105Z",
     "start_time": "2020-05-04T15:05:40.483099Z"
    },
    "scrolled": true
   },
   "outputs": [],
   "source": [
    "# ucitavamo bazu podataka,putanja do fajla\n",
    "data = \"C:\\\\Users\\\\Vanja\\\\Desktop\\\\Programiranje\\\\cbb19.csv\"\n",
    "df = pd.read_csv(data)\n",
    "df1 = df[[\"TEAM\", \"G\", \"W\"]]\n",
    "# radimo sortiranje po koloni, od najveceg ka najmanjem\n",
    "df2 = df1.sort_values(by=['W'], ascending=False)\n",
    "# izdvajamo prvih 5 vrijednosti\n",
    "df3 = df2[:5]\n"
   ]
  },
  {
   "cell_type": "code",
   "execution_count": 3,
   "metadata": {
    "ExecuteTime": {
     "end_time": "2020-05-04T15:05:41.409584Z",
     "start_time": "2020-05-04T15:05:41.242891Z"
    },
    "scrolled": false
   },
   "outputs": [
    {
     "data": {
      "text/html": [
       "<div>\n",
       "<style scoped>\n",
       "    .dataframe tbody tr th:only-of-type {\n",
       "        vertical-align: middle;\n",
       "    }\n",
       "\n",
       "    .dataframe tbody tr th {\n",
       "        vertical-align: top;\n",
       "    }\n",
       "\n",
       "    .dataframe thead th {\n",
       "        text-align: right;\n",
       "    }\n",
       "</style>\n",
       "<table border=\"1\" class=\"dataframe\">\n",
       "  <thead>\n",
       "    <tr style=\"text-align: right;\">\n",
       "      <th></th>\n",
       "      <th>TEAM</th>\n",
       "      <th>G</th>\n",
       "      <th>W</th>\n",
       "    </tr>\n",
       "  </thead>\n",
       "  <tbody>\n",
       "    <tr>\n",
       "      <td>1</td>\n",
       "      <td>Virginia</td>\n",
       "      <td>38</td>\n",
       "      <td>35</td>\n",
       "    </tr>\n",
       "    <tr>\n",
       "      <td>0</td>\n",
       "      <td>Gonzaga</td>\n",
       "      <td>37</td>\n",
       "      <td>33</td>\n",
       "    </tr>\n",
       "    <tr>\n",
       "      <td>10</td>\n",
       "      <td>Houston</td>\n",
       "      <td>37</td>\n",
       "      <td>33</td>\n",
       "    </tr>\n",
       "    <tr>\n",
       "      <td>22</td>\n",
       "      <td>Buffalo</td>\n",
       "      <td>35</td>\n",
       "      <td>32</td>\n",
       "    </tr>\n",
       "    <tr>\n",
       "      <td>2</td>\n",
       "      <td>Duke</td>\n",
       "      <td>38</td>\n",
       "      <td>32</td>\n",
       "    </tr>\n",
       "  </tbody>\n",
       "</table>\n",
       "</div>"
      ],
      "text/plain": [
       "        TEAM   G   W\n",
       "1   Virginia  38  35\n",
       "0    Gonzaga  37  33\n",
       "10   Houston  37  33\n",
       "22   Buffalo  35  32\n",
       "2       Duke  38  32"
      ]
     },
     "execution_count": 3,
     "metadata": {},
     "output_type": "execute_result"
    }
   ],
   "source": [
    "df3"
   ]
  },
  {
   "cell_type": "code",
   "execution_count": 22,
   "metadata": {
    "ExecuteTime": {
     "end_time": "2020-05-04T15:49:06.979998Z",
     "start_time": "2020-05-04T15:49:06.728959Z"
    },
    "scrolled": true
   },
   "outputs": [
    {
     "data": {
      "image/png": "[encoded data removed]",
      "text/plain": [
       "<Figure size 432x288 with 1 Axes>"
      ]
     },
     "metadata": {
      "needs_background": "light"
     },
     "output_type": "display_data"
    },
    {
     "data": {
      "text/plain": [
       "<Figure size 432x288 with 0 Axes>"
      ]
     },
     "metadata": {},
     "output_type": "display_data"
    }
   ],
   "source": [
    "# x osa - sortiranje timova\n",
    "x = df3['TEAM']\n",
    "# y osa - sortiranje po pobjedama\n",
    "y = df3['W']\n",
    "plt.bar(x,y)\n",
    "# graficki prikaz\n",
    "plt.show()\n",
    "#cuvanje grafika kao slike\n",
    "plt.savefig(\"C:\\\\Users\\\\Vanja\\\\Desktop\\\\Programiranje\\\\1.png\")\n"
   ]
  },
  {
   "cell_type": "code",
   "execution_count": 23,
   "metadata": {
    "ExecuteTime": {
     "end_time": "2020-05-04T15:49:10.292824Z",
     "start_time": "2020-05-04T15:49:10.154114Z"
    },
    "scrolled": true
   },
   "outputs": [
    {
     "data": {
      "text/html": [
       "<div>\n",
       "<style scoped>\n",
       "    .dataframe tbody tr th:only-of-type {\n",
       "        vertical-align: middle;\n",
       "    }\n",
       "\n",
       "    .dataframe tbody tr th {\n",
       "        vertical-align: top;\n",
       "    }\n",
       "\n",
       "    .dataframe thead th {\n",
       "        text-align: right;\n",
       "    }\n",
       "</style>\n",
       "<table border=\"1\" class=\"dataframe\">\n",
       "  <thead>\n",
       "    <tr style=\"text-align: right;\">\n",
       "      <th></th>\n",
       "      <th>G</th>\n",
       "      <th>TEAM</th>\n",
       "    </tr>\n",
       "  </thead>\n",
       "  <tbody>\n",
       "    <tr>\n",
       "      <td>305</td>\n",
       "      <td>27</td>\n",
       "      <td>UTEP</td>\n",
       "    </tr>\n",
       "    <tr>\n",
       "      <td>253</td>\n",
       "      <td>26</td>\n",
       "      <td>North Dakota</td>\n",
       "    </tr>\n",
       "    <tr>\n",
       "      <td>175</td>\n",
       "      <td>26</td>\n",
       "      <td>Princeton</td>\n",
       "    </tr>\n",
       "    <tr>\n",
       "      <td>205</td>\n",
       "      <td>26</td>\n",
       "      <td>Columbia</td>\n",
       "    </tr>\n",
       "    <tr>\n",
       "      <td>318</td>\n",
       "      <td>26</td>\n",
       "      <td>Stephen F. Austin</td>\n",
       "    </tr>\n",
       "  </tbody>\n",
       "</table>\n",
       "</div>"
      ],
      "text/plain": [
       "      G               TEAM\n",
       "305  27               UTEP\n",
       "253  26       North Dakota\n",
       "175  26          Princeton\n",
       "205  26           Columbia\n",
       "318  26  Stephen F. Austin"
      ]
     },
     "execution_count": 23,
     "metadata": {},
     "output_type": "execute_result"
    }
   ],
   "source": [
    "# pravimo novi dataframe, gdje sortiramo po novim kolonama\n",
    "df4 = df[[\"G\", \"TEAM\"]]\n",
    "# sortiramoamo kolone, od najveceg ka najmanjem, i prikazujemo zadnjih 5\n",
    "df5 = df4.sort_values(by=['G'], ascending=False).tail(5)\n",
    "df5"
   ]
  },
  {
   "cell_type": "code",
   "execution_count": 24,
   "metadata": {
    "ExecuteTime": {
     "end_time": "2020-05-04T15:49:12.837328Z",
     "start_time": "2020-05-04T15:49:12.505270Z"
    },
    "scrolled": false
   },
   "outputs": [
    {
     "data": {
      "image/png": "[encoded data removed]",
      "text/plain": [
       "<Figure size 504x288 with 1 Axes>"
      ]
     },
     "metadata": {
      "needs_background": "light"
     },
     "output_type": "display_data"
    },
    {
     "data": {
      "text/plain": [
       "<Figure size 432x288 with 0 Axes>"
      ]
     },
     "metadata": {},
     "output_type": "display_data"
    }
   ],
   "source": [
    "# x osa - sortiranje timova\n",
    "x = df5['TEAM']\n",
    "# y osa - sortiranje po odigranim utakmicama\n",
    "y = df5['G']\n",
    "#pravljenje razmaka na x-osi radi jasnijeg pregleda\n",
    "plt.figure(figsize=(7,4))\n",
    "\n",
    "plt.bar(x,y)\n",
    "# graficki prikaz\n",
    "plt.show()\n",
    "#cuvanje grafika kao slike\n",
    "plt.savefig(\"C:\\\\Users\\\\Vanja\\\\Desktop\\\\Programiranje\\\\2.png\")"
   ]
  },
  {
   "cell_type": "code",
   "execution_count": 25,
   "metadata": {
    "ExecuteTime": {
     "end_time": "2020-05-04T15:49:15.542837Z",
     "start_time": "2020-05-04T15:49:15.508884Z"
    }
   },
   "outputs": [
    {
     "data": {
      "text/html": [
       "<div>\n",
       "<style scoped>\n",
       "    .dataframe tbody tr th:only-of-type {\n",
       "        vertical-align: middle;\n",
       "    }\n",
       "\n",
       "    .dataframe tbody tr th {\n",
       "        vertical-align: top;\n",
       "    }\n",
       "\n",
       "    .dataframe thead th {\n",
       "        text-align: right;\n",
       "    }\n",
       "</style>\n",
       "<table border=\"1\" class=\"dataframe\">\n",
       "  <thead>\n",
       "    <tr style=\"text-align: right;\">\n",
       "      <th></th>\n",
       "      <th>TEAM</th>\n",
       "      <th>G</th>\n",
       "      <th>W</th>\n",
       "    </tr>\n",
       "  </thead>\n",
       "  <tbody>\n",
       "    <tr>\n",
       "      <td>1</td>\n",
       "      <td>Virginia</td>\n",
       "      <td>38</td>\n",
       "      <td>35</td>\n",
       "    </tr>\n",
       "    <tr>\n",
       "      <td>0</td>\n",
       "      <td>Gonzaga</td>\n",
       "      <td>37</td>\n",
       "      <td>33</td>\n",
       "    </tr>\n",
       "    <tr>\n",
       "      <td>10</td>\n",
       "      <td>Houston</td>\n",
       "      <td>37</td>\n",
       "      <td>33</td>\n",
       "    </tr>\n",
       "    <tr>\n",
       "      <td>22</td>\n",
       "      <td>Buffalo</td>\n",
       "      <td>35</td>\n",
       "      <td>32</td>\n",
       "    </tr>\n",
       "    <tr>\n",
       "      <td>2</td>\n",
       "      <td>Duke</td>\n",
       "      <td>38</td>\n",
       "      <td>32</td>\n",
       "    </tr>\n",
       "  </tbody>\n",
       "</table>\n",
       "</div>"
      ],
      "text/plain": [
       "        TEAM   G   W\n",
       "1   Virginia  38  35\n",
       "0    Gonzaga  37  33\n",
       "10   Houston  37  33\n",
       "22   Buffalo  35  32\n",
       "2       Duke  38  32"
      ]
     },
     "execution_count": 25,
     "metadata": {},
     "output_type": "execute_result"
    }
   ],
   "source": [
    "# pravimo novi dataframe, gdje sortiramo po novim kolonama\n",
    "df6 = df[[\"TEAM\", \"G\", \"W\"]]\n",
    "# sortiramo kolone, od najveceg ka najmanjem, i prikazujemo prvih 5\n",
    "df7 = df6.sort_values(by=['W'], ascending=False)\n",
    "df8 = df7[:5]\n",
    "df8"
   ]
  },
  {
   "cell_type": "code",
   "execution_count": 29,
   "metadata": {
    "ExecuteTime": {
     "end_time": "2020-05-04T15:59:27.328198Z",
     "start_time": "2020-05-04T15:59:27.007286Z"
    },
    "scrolled": true
   },
   "outputs": [
    {
     "data": {
      "image/png": "[encoded data removed]",
      "text/plain": [
       "<Figure size 432x288 with 1 Axes>"
      ]
     },
     "metadata": {
      "needs_background": "light"
     },
     "output_type": "display_data"
    },
    {
     "data": {
      "text/plain": [
       "<Figure size 432x288 with 0 Axes>"
      ]
     },
     "metadata": {},
     "output_type": "display_data"
    }
   ],
   "source": [
    "# data to plot\n",
    "n_groups = 5\n",
    "means_Games_Won = (35, 33, 33, 32, 32)\n",
    "means_Games_Played = (38, 37, 37, 35, 38)\n",
    "\n",
    "# create plot\n",
    "fig, ax = plt.subplots()\n",
    "index = np.arange(n_groups)\n",
    "bar_width = 0.35\n",
    "opacity = 0.8\n",
    "\n",
    "rects1 = plt.bar(index, means_Games_Won, bar_width,\n",
    "alpha=opacity,\n",
    "color='b',\n",
    "label='G.Won')\n",
    "\n",
    "rects2 = plt.bar(index + bar_width, means_Games_Played, bar_width,\n",
    "alpha=opacity,\n",
    "color='r',\n",
    "label='G.Played')\n",
    "\n",
    "plt.xlabel('Teams')\n",
    "plt.ylabel('Number of Games')\n",
    "plt.title('Scores by Teams')\n",
    "plt.xticks(index + bar_width, ('Virgina, Gonzaga, Houston, Buffalo, Duke'))\n",
    "#ispraviti gresku u sortiranju timova\n",
    "plt.legend()\n",
    "#sredjivanje prikaza timova \n",
    "ax.set_xticks(np.arange(len(x)))\n",
    "#rotacija imena za 45 stepeni \n",
    "ax.set_xticklabels(x, rotation = 45, ha=\"right\")\n",
    "\n",
    "plt.tight_layout()\n",
    "plt.show()\n",
    "#cuvanje grafika kao slike\n",
    "plt.savefig(\"C:\\\\Users\\\\Vanja\\\\Desktop\\\\Programiranje\\\\3.png\")"
   ]
  },
  {
   "cell_type": "code",
   "execution_count": null,
   "metadata": {},
   "outputs": [],
   "source": []
  },
  {
   "cell_type": "code",
   "execution_count": null,
   "metadata": {},
   "outputs": [],
   "source": []
  }
 ],
 "metadata": {
  "hide_input": false,
  "kernelspec": {
   "display_name": "Python 3",
   "language": "python",
   "name": "python3"
  },
  "language_info": {
   "codemirror_mode": {
    "name": "ipython",
    "version": 3
   },
   "file_extension": ".py",
   "mimetype": "text/x-python",
   "name": "python",
   "nbconvert_exporter": "python",
   "pygments_lexer": "ipython3",
   "version": "3.7.4"
  },
  "varInspector": {
   "cols": {
    "lenName": 16,
    "lenType": 16,
    "lenVar": 40
   },
   "kernels_config": {
    "python": {
     "delete_cmd_postfix": "",
     "delete_cmd_prefix": "del ",
     "library": "var_list.py",
     "varRefreshCmd": "print(var_dic_list())"
    },
    "r": {
     "delete_cmd_postfix": ") ",
     "delete_cmd_prefix": "rm(",
     "library": "var_list.r",
     "varRefreshCmd": "cat(var_dic_list()) "
    }
   },
   "types_to_exclude": [
    "module",
    "function",
    "builtin_function_or_method",
    "instance",
    "_Feature"
   ],
   "window_display": false
  }
 },
 "nbformat": 4,
 "nbformat_minor": 2
}
