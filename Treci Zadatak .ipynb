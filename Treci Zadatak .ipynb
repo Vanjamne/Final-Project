{
 "cells": [
  {
   "cell_type": "code",
   "execution_count": 1,
   "metadata": {
    "ExecuteTime": {
     "end_time": "2020-05-09T11:20:54.287341Z",
     "start_time": "2020-05-09T11:20:37.317177Z"
    },
    "run_control": {
     "marked": true
    }
   },
   "outputs": [],
   "source": [
    "#importing libraries and credentials\n",
    "\n",
    "import datetime\n",
    "from datetime import date\n",
    "import gspread\n",
    "import pandas as pdb\n",
    "from oauth2client.service_account import ServiceAccountCredentials\n",
    "from pip._vendor.distlib.compat import raw_input"
   ]
  },
  {
   "cell_type": "code",
   "execution_count": 2,
   "metadata": {
    "ExecuteTime": {
     "end_time": "2020-05-09T11:20:54.318247Z",
     "start_time": "2020-05-09T11:20:54.308763Z"
    }
   },
   "outputs": [],
   "source": [
    "#setting scope\n",
    "\n",
    "scope = [ 'https://spreadsheets.google.com/feeds',\n",
    "          'https://www.googleapis.com/auth/drive' ]"
   ]
  },
  {
   "cell_type": "code",
   "execution_count": 3,
   "metadata": {
    "ExecuteTime": {
     "end_time": "2020-05-09T11:20:54.841318Z",
     "start_time": "2020-05-09T11:20:54.337710Z"
    },
    "scrolled": true
   },
   "outputs": [],
   "source": [
    "#credentials location\n",
    "credentials = ServiceAccountCredentials.from_json_keyfile_name('C:\\\\Users\\\\Vanja\\\\Downloads\\\\My Project-badad125c0cd.json', scope)"
   ]
  },
  {
   "cell_type": "code",
   "execution_count": 4,
   "metadata": {
    "ExecuteTime": {
     "end_time": "2020-05-09T11:20:55.752346Z",
     "start_time": "2020-05-09T11:20:54.862223Z"
    }
   },
   "outputs": [],
   "source": [
    "gc = gspread.authorize(credentials)"
   ]
  },
  {
   "cell_type": "code",
   "execution_count": 5,
   "metadata": {
    "ExecuteTime": {
     "end_time": "2020-05-09T11:20:59.952333Z",
     "start_time": "2020-05-09T11:20:55.772751Z"
    }
   },
   "outputs": [],
   "source": [
    "#opening worksheets and creating dataframes\n",
    "wks = gc.open(\"Hospital\")\n",
    "wks1 = wks.worksheet(\"Pacijenti\")\n",
    "wks2 = wks.worksheet(\"Doktori\")\n",
    "wks3 = wks.worksheet(\"Dijagnoze\")\n",
    "df = pdb.DataFrame(wks1.get_all_values())\n",
    "df2 = pdb.DataFrame(wks2.get_all_values())\n",
    "df3 = pdb.DataFrame(wks3.get_all_values())"
   ]
  },
  {
   "cell_type": "code",
   "execution_count": 6,
   "metadata": {
    "ExecuteTime": {
     "end_time": "2020-05-09T11:21:01.668324Z",
     "start_time": "2020-05-09T11:21:00.022200Z"
    }
   },
   "outputs": [],
   "source": [
    "#exporting defined values into columns\n",
    "doktori = wks2.col_values(1)\n",
    "dijagnoze = wks3.col_values(1)\n",
    "datumi = wks1.col_values(4)\n",
    "pacijenti = wks1.col_values(1)\n"
   ]
  },
  {
   "cell_type": "code",
   "execution_count": 7,
   "metadata": {
    "ExecuteTime": {
     "end_time": "2020-05-09T11:21:25.518667Z",
     "start_time": "2020-05-09T11:21:01.704256Z"
    },
    "code_folding": [],
    "scrolled": true
   },
   "outputs": [
    {
     "name": "stdout",
     "output_type": "stream",
     "text": [
      "Za unos podataka o pregledu pacijenta pritisnite M, za izvjestaje pritisnite R. M/R?: R\n",
      "Za pregled pacijenta po imenu i prezimenu unesite 1\n",
      "Za pregled svih pacijenata za odredjeni datum unesite 2\n",
      "Za pregled pacijenta po dijagnozi unesite 3\n",
      "Za pretragu pacijenata koje ste pregledali u zadnjih 'N' dana unesite 4\n",
      "Unesite 1/2/3/4?4\n",
      "Unesite broj dana: 2\n",
      "                   0           1    2           3           4         5  \\\n",
      "0      Name Lastname         DoB  Age   Exam Date  Exam Strat  Exam End   \n",
      "1  Vasilije Orlandic  12.05.1985   34  08.05.2020       21:30     21:35   \n",
      "\n",
      "          6               7          8  \n",
      "0  Duration          Doctor  Diagnosis  \n",
      "1     00:05  Jevto Erakovic   Neurosis  \n"
     ]
    }
   ],
   "source": [
    "#Setting options \n",
    "\n",
    "status = \"\"\n",
    "def Menu():\n",
    "    status = input(\"Za unos podataka o pregledu pacijenta pritisnite M, za izvjestaje pritisnite R. M/R?: \").upper()\n",
    "    if status == \"M\":\n",
    "        medical()       \n",
    "    elif status == \"R\":\n",
    "        medrep()\n",
    "    else:\n",
    "        print (\"Morate da unesete M ili R\")\n",
    "        status = input(\"Za pregled pacijenta pritisnite M, za izvjestaje pritisnite R. M/R?: \").upper()\n",
    "\n",
    "#Creating entries for patient\n",
    "def medical():\n",
    "    Patientnum = input(\"Unesite broj pacijenata: \")\n",
    "    while not Patientnum.isdigit():\n",
    "        print(\"Molimo vas da unesete broj!\")\n",
    "        Patientnum = input(\"Unesite broj pacijenata: \")\n",
    "        continue\n",
    "    for i in range(int(Patientnum)):        \n",
    "        try:\n",
    "            name = input(\"Unesite ime pacijenta: \").capitalize()\n",
    "            while not name.isalpha():\n",
    "                print(\"Greska! Morate unijeti ime pacijenta\")\n",
    "                name = input(\"Unesite ime pacijenta: \").capitalize()\n",
    "            else:\n",
    "                lastname = input(\"Unesite prezime pacijenta: \").capitalize()\n",
    "                while not lastname.isalpha():\n",
    "                    print(\"Greska! Morate unijeti prezime pacijenta\")\n",
    "                    lastname = input(\"Unesite prezime pacijenta: \").capitalize()        \n",
    "            NameLastname = str(name + \" \" + lastname)            \n",
    "#Setting time limits \n",
    "\n",
    "            print(\"Unesite datum rodjenja pacijenta\")\n",
    "            day = input(\"Unesite dan rodjenja pacijenta: \")\n",
    "            month = input(\"Unesite mjesec rodjenja pacijenta: \")\n",
    "            year = input(\"Unesite godinu rodjenja pacijenta: \")\n",
    "            start = datetime.date(int(\"1900\"),int(\"01\"), int(\"01\"))\n",
    "\n",
    "#validating dob\n",
    "            birth = datetime.date(int(year), int(month), int(day))\n",
    "            while birth > date.today() or birth < start:\n",
    "                print(\"Greska!\")\n",
    "                day = input(\"Unesite dan rodjenja pacijenta: \")\n",
    "                month = input(\"Unesite mjesec rodjenja pacijenta: \")\n",
    "                year = input(\"Unesite godinu rodjenja pacijenta: \")\n",
    "                birth = datetime.date(int(yb), int(mb), int(db))\n",
    "            else:\n",
    "                DoB = birth.strftime(\"%d.%m.%Y\")\n",
    "#casting date to string\n",
    "#calculating patient age\n",
    "            yearDays = 365.2425\n",
    "            PatientAge = int((date.today() - birth).days / yearDays)\n",
    "            print(f\"Pacijent ima \", PatientAge, \" godina\")\n",
    "            print(\"Unesite datum pregleda pacijenta\")\n",
    "            exday = input(\"Unesite dan pregleda pacijenta: \")\n",
    "            exmonth = input(\"Unesite mjesec pregleda pacijenta: \")\n",
    "            exyear = input(\"Unesite godinu pregleda pacijenta: \")\n",
    "            exam = datetime.date(int(exyear), int(exmonth), int(exday))\n",
    "            while exam < date.today() or exam > date.today():\n",
    "                print(\"Greska! Pokusajte ponovo\")\n",
    "                exday = input(\"Unesite dan pregleda pacijenta: \")\n",
    "                exmonth = input(\"Unesite mjesec pregleda pacijenta: \")\n",
    "                exyear = input(\"Unesite godinu pregleda pacijenta: \")\n",
    "                exam = datetime.date(int(exyear), int(exmonth), int(exday))\n",
    "            else:\n",
    "                ExamDate = exam.strftime(\"%d.%m.%Y\")               \n",
    "#casting date into string\n",
    "#Input exam end\n",
    "            print(\"Unesite vrijeme pocetka pregleda pacijenta: \")\n",
    "            medhr = input(\"Unesite sat pocetka pregleda pacijenta: \")\n",
    "            medmin = input(\"Unesite minut pocetka pregleda pacijenta: \")\n",
    "            medttl = str(medhr + medmin)\n",
    "            medttla = datetime.time(hour=int(medttl[0:2]), minute=int(medttl[2:4]))\n",
    "            Medstart = medttla.strftime(\"%H:%M\")\n",
    "#casting date to string\n",
    "\n",
    "            print(\"Unesite vrijeme zavrsetka pregleda pacijenta: \")\n",
    "            medfinhr = input(\"Unesite sat zavrsetka pregleda pacijenta: \")\n",
    "            medfinmin = input(\"Unesite minut zavrsetka pregleda pacijenta: \")\n",
    "            medttlfin = str(medfinhr + medfinmin)\n",
    "            medttlb = datetime.time(hour=int(medttlfin[0:2]), minute=int(medttlfin[2:4]))\n",
    "            Medfin = medttlb.strftime(\"%H:%M\")\n",
    "#casting date to string\n",
    "\n",
    "            timeFinal = str(datetime.timedelta(hours=(medttlb.hour - medttla.hour), minutes=(medttlb.minute - medttla.minute)))\n",
    "            timefinal2 = pdb.to_datetime(timeFinal)\n",
    "            Duration = timefinal2.strftime(\"%H:%M\")\n",
    "#calculating exam duration\n",
    "\n",
    "            print(\"Unesite ime i prezime doktora\")\n",
    "            docname = input(\"Unesite ime doktora: \").capitalize()\n",
    "            while not docname.isalpha():\n",
    "                print(\"Greska!\")\n",
    "                docname = input(\"Unesite ime doktora: \").capitalize()\n",
    "            else:\n",
    "                doclastname = input(\"Unesite prezime doktora: \").capitalize()\n",
    "                while not doclastname.isalpha():\n",
    "                    print(\"Greska!\")\n",
    "                    doclastname = input(\"Unesite prezime doktora: \").capitalize()\n",
    "            Doc = str(docname + \" \" + doclastname)\n",
    "#checking doctors name         \n",
    "            while not Doc in doktori:\n",
    "                print(\"Greska!\")\n",
    "                docname = input(\"Unesite ime doktora: \").capitalize()\n",
    "                while not docname.isalpha():\n",
    "                    print(\"Greska!\")\n",
    "                    docname = input(\"Unesite ime doktora: \").capitalize()\n",
    "                else:\n",
    "                    doclastname = input(\"Unesite prezime doktora: \").capitalize()\n",
    "                    while not doclastname.isalpha():\n",
    "                        print(\"Greska!\")\n",
    "                        doclastname = input(\"Unesite prezime doktora: \").capitalize()\n",
    "                Doc = str(docname + \" \" + doclastname)\n",
    "\n",
    "            diagnosis = input(\"Unesite dijagnozu pacijenta: \").capitalize()\n",
    "#checking if diagnosis exists            \n",
    "            while not diagnosis in dijagnoze:\n",
    "                print(\"Greska!\")\n",
    "                diagnosis = input(\"Unesite dijagnozu pacijenta: \").capitalize()\n",
    "            else:\n",
    "                print(\"Uspijesno ste unijeli podatke!\")\n",
    "\n",
    "            row = [NameLastname, DoB, PatientAge, ExamDate, Medstart, Medfin, Duration, Doc, diagnosis]\n",
    "            index = 2\n",
    "            wks1.insert_row(row,index)\n",
    "            wks1\n",
    "\n",
    "        except ValueError:\n",
    "            print(\"Greska!Pokusajte ponovo\")\n",
    "            medical()\n",
    "\n",
    "#defining reports    \n",
    "#setting options\n",
    "\n",
    "def medrep():\n",
    "    print(\"Za pregled pacijenta po imenu i prezimenu unesite 1\")\n",
    "    print(\"Za pregled svih pacijenata za odredjeni datum unesite 2\")\n",
    "    print(\"Za pregled pacijenta po dijagnozi unesite 3\")\n",
    "    print(\"Za pretragu pacijenata koje ste pregledali u zadnjih 'N' dana unesite 4\")\n",
    "    status = input(\"Unesite 1/2/3/4?\").lower()\n",
    "\n",
    "    if status == \"1\":        \n",
    "        name = input(\"Unesite ime pacijenta: \").capitalize()\n",
    "        while not name.isalpha():\n",
    "            print(\"Greska!\")\n",
    "            name = input(\"Unesite ime pacijenta: \").capitalize()\n",
    "        else:\n",
    "            lastname = input(\"Unesite prezime pacijenta: \").capitalize()\n",
    "            while not lastname.isalpha():\n",
    "                print(\"Greska!\")\n",
    "                lastname = input(\"Unesite prezime pacijenta: \").capitalize()        \n",
    "            namelastname = str(name + \" \" + lastname)\n",
    "#checking if patient data already exists            \n",
    "            while not namelastname in pacijenti:\n",
    "                name = input(\"Unesite ime pacijenta: \").capitalize()\n",
    "                while not name.isalpha():\n",
    "                    print(\"Greska!\")\n",
    "                    name = input(\"Unesite ime pacijenta: \").capitalize()\n",
    "                else:\n",
    "                    lastname = input(\"Unesite prezime pacijenta: \").capitalize()\n",
    "                    while not lastname.isalpha():\n",
    "                        print(\"Greska!\")\n",
    "                        lastname = input(\"Unesite prezime pacijenta: \").capitalize()        \n",
    "                    namelastname = str(name + \" \" + lastname)\n",
    "            else:    \n",
    "                print(df[ df[0] == namelastname ])\n",
    "                  \n",
    "                              \n",
    "    elif status == \"2\":\n",
    "        print(\"Unesite datum pregleda pacijenta\")\n",
    "        repd = input(\"Unesite dan pregleda pacijenta: \")\n",
    "        repm = input(\"Unesite mjesec pregleda pacijenta: \")\n",
    "        repy = input(\"Unesite godinu pregleda pacijenta: \")\n",
    "        exam = datetime.date(int(repy), int(repm), int(repd))\n",
    "        Meddate = exam.strftime(\"%d.%m.%Y\")\n",
    "        while not Meddate in datumi:\n",
    "            print(\"Unijeli ste pogresan datum\")\n",
    "            print(\"Unesite datum pregleda pacijenta\")\n",
    "            repd = input(\"Unesite dan pregleda pacijenta: \")\n",
    "            repm = input(\"Unesite mjesec pregleda pacijenta: \")\n",
    "            repy = input(\"Unesite godinu pregleda pacijenta: \")\n",
    "            exam = datetime.date(int(repy), int(repm), int(repd))\n",
    "            Meddate = exam.strftime(\"%d.%m.%Y\")\n",
    "        else:\n",
    "            print(df[ df[3] == str(Meddate) ])       \n",
    "        \n",
    "    elif status == \"3\":\n",
    "        diagnosis = input(\"Unesite dijagnozu pacijenta: \").capitalize()\n",
    "        while not diagnosis in dijagnoze:\n",
    "            print(\"Greska!\")\n",
    "            diagnosis = input(\"Unesite dijagnozu pacijenta: \").capitalize()\n",
    "        else:\n",
    "            print(df[ df[8] == str(diagnosis) ])\n",
    "            \n",
    "    elif status == \"4\":      \n",
    "        nPatient = input(\"Unesite broj dana: \")\n",
    "        nPatient2 = int(nPatient) +1\n",
    "        while not nPatient.isdigit():\n",
    "            print(\"Molimo vas da unesete broj!\")\n",
    "            nPatient = input(\"Unesite broj dana: \")\n",
    "            continue\n",
    "        n_numb = df.sort_values(by=3, ascending=0)\n",
    "        n_numb2 = n_numb.head(int(nPatient2))\n",
    "        print(n_numb2)        \n",
    "    else:\n",
    "        print(\"Greska!\")\n",
    "Menu()\n"
   ]
  },
  {
   "cell_type": "code",
   "execution_count": null,
   "metadata": {},
   "outputs": [],
   "source": []
  }
 ],
 "metadata": {
  "hide_input": false,
  "kernelspec": {
   "display_name": "Python 3",
   "language": "python",
   "name": "python3"
  },
  "language_info": {
   "codemirror_mode": {
    "name": "ipython",
    "version": 3
   },
   "file_extension": ".py",
   "mimetype": "text/x-python",
   "name": "python",
   "nbconvert_exporter": "python",
   "pygments_lexer": "ipython3",
   "version": "3.7.4"
  },
  "varInspector": {
   "cols": {
    "lenName": 16,
    "lenType": 16,
    "lenVar": 40
   },
   "kernels_config": {
    "python": {
     "delete_cmd_postfix": "",
     "delete_cmd_prefix": "del ",
     "library": "var_list.py",
     "varRefreshCmd": "print(var_dic_list())"
    },
    "r": {
     "delete_cmd_postfix": ") ",
     "delete_cmd_prefix": "rm(",
     "library": "var_list.r",
     "varRefreshCmd": "cat(var_dic_list()) "
    }
   },
   "types_to_exclude": [
    "module",
    "function",
    "builtin_function_or_method",
    "instance",
    "_Feature"
   ],
   "window_display": false
  }
 },
 "nbformat": 4,
 "nbformat_minor": 2
}
